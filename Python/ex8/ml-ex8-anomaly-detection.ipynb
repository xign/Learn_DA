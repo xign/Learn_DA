{
 "cells": [
  {
   "cell_type": "markdown",
   "metadata": {},
   "source": [
    "#  Exercise 8 | Anomaly Detection "
   ]
  },
  {
   "cell_type": "code",
   "execution_count": null,
   "metadata": {
    "collapsed": false
   },
   "outputs": [],
   "source": [
    "import numpy as np\n",
    "import matplotlib.pyplot as plt\n",
    "import scipy.io\n",
    "from scipy.stats import multivariate_normal"
   ]
  },
  {
   "cell_type": "code",
   "execution_count": null,
   "metadata": {
    "collapsed": true
   },
   "outputs": [],
   "source": [
    "%matplotlib inline\n",
    "#%qtconsole"
   ]
  },
  {
   "cell_type": "markdown",
   "metadata": {},
   "source": [
    "## Part 1: Load Example Dataset  \n",
    "  We start this exercise by using a small dataset that is easy to\n",
    "  visualize.\n",
    "\n",
    "  Our example case consists of 2 network server statistics across\n",
    "  several machines: the latency and throughput of each machine.\n",
    "  This exercise will help us find possibly faulty (or very fast) machines.\n"
   ]
  },
  {
   "cell_type": "code",
   "execution_count": null,
   "metadata": {
    "collapsed": false
   },
   "outputs": [],
   "source": [
    "ex7data1 = scipy.io.loadmat('ex8data1.mat')\n",
    "X = ex7data1['X']\n",
    "Xval = ex7data1['Xval']\n",
    "yval = ex7data1['yval'][:,0]"
   ]
  },
  {
   "cell_type": "code",
   "execution_count": null,
   "metadata": {
    "collapsed": false,
    "scrolled": true
   },
   "outputs": [],
   "source": [
    "def plot_data(X, ax):\n",
    "    ax.set_xlabel('Latency')\n",
    "    ax.set_ylabel('Throughput')\n",
    "    ax.plot(X[:,0], X[:,1], 'bx')\n",
    "    \n",
    "fig, ax = plt.subplots()\n",
    "plot_data(X, ax)"
   ]
  },
  {
   "cell_type": "code",
   "execution_count": null,
   "metadata": {
    "collapsed": true
   },
   "outputs": [],
   "source": [
    "def multivariate_gaussian(X, mu, sigma2):\n",
    "    if len(sigma2) == 1:\n",
    "        sigma2 = np.diag(sigma2)\n",
    "    return multivariate_normal(mean=mu, cov=sigma2).pdf(X)"
   ]
  },
  {
   "cell_type": "markdown",
   "metadata": {},
   "source": [
    "## Part 2: Estimate the dataset statistics \n",
    "  For this exercise, we assume a Gaussian distribution for the dataset.\n",
    "\n",
    "  We first estimate the parameters of our assumed Gaussian distribution, \n",
    "  then compute the probabilities for each of the points and then visualize \n",
    "  both the overall distribution and where each of the points falls in \n",
    "  terms of that distribution.\n"
   ]
  },
  {
   "cell_type": "code",
   "execution_count": null,
   "metadata": {
    "collapsed": true
   },
   "outputs": [],
   "source": [
    "def estimate_gaussian(X):\n",
    "    #ESTIMATEGAUSSIAN This function estimates the parameters of a \n",
    "    #Gaussian distribution using the data in X\n",
    "    #   [mu sigma2] = estimateGaussian(X), \n",
    "    #   The input X is the dataset with each n-dimensional data point in one row\n",
    "    #   The output is an n-dimensional vector mu, the mean of the data set\n",
    "    #   and the variances sigma^2, an n x 1 vector\n",
    "    # \n",
    "    m, n = X.shape\n",
    "    \n",
    "    # You should return these values correctly\n",
    "    mu = np.zeros(n)\n",
    "    sigma2 = np.ones(n)\n",
    "    \n",
    "    # ====================== YOUR CODE HERE ======================\n",
    "    # Instructions: Compute the mean of the data and the variances\n",
    "    #               In particular, mu(i) should contain the mean of\n",
    "    #               the data for the i-th feature and sigma2(i)\n",
    "    #               should contain variance of the i-th feature.\n",
    "    #\n",
    "    \n",
    "    \n",
    "    \n",
    "    \n",
    "    # =============================================================\n",
    "    \n",
    "    return mu, sigma2"
   ]
  },
  {
   "cell_type": "code",
   "execution_count": null,
   "metadata": {
    "collapsed": false
   },
   "outputs": [],
   "source": [
    "mu, sigma2 = estimate_gaussian(X)\n",
    "p = multivariate_gaussian(X, mu, sigma2)"
   ]
  },
  {
   "cell_type": "markdown",
   "metadata": {},
   "source": [
    "Visualize the fit."
   ]
  },
  {
   "cell_type": "code",
   "execution_count": null,
   "metadata": {
    "collapsed": false,
    "scrolled": true
   },
   "outputs": [],
   "source": [
    "x1, x2 = np.meshgrid(np.linspace(0, 35), np.linspace(0, 35))\n",
    "Z = multivariate_gaussian(np.c_[x1.reshape(-1), x2.reshape(-1)], mu, sigma2).reshape(x1.shape)\n",
    "fig, ax = plt.subplots(figsize=(5,5))\n",
    "plot_data(X, ax)\n",
    "ax.contour(x1, x2, Z, levels=np.logspace(-20, 1, 7))"
   ]
  },
  {
   "cell_type": "markdown",
   "metadata": {},
   "source": [
    "## Part 3: Find Outliers \n",
    "  Now you will find a good epsilon threshold using a cross-validation set.\n",
    "  probabilities given the estimated Gaussian distribution.\n"
   ]
  },
  {
   "cell_type": "code",
   "execution_count": null,
   "metadata": {
    "collapsed": true
   },
   "outputs": [],
   "source": [
    "def select_threshold(yval, pval):\n",
    "    #SELECTTHRESHOLD Find the best threshold (epsilon) to use for selecting\n",
    "    #outliers\n",
    "    #   [bestEpsilon bestF1] = SELECTTHRESHOLD(yval, pval) finds the best\n",
    "    #   threshold to use for selecting outliers based on the results from a\n",
    "    #   validation set (pval) and the ground truth (yval).\n",
    "    #\n",
    "    best_epsilon = 0\n",
    "    best_f1 = 0\n",
    "    f1 = 0\n",
    "    \n",
    "    for epsilon in np.linspace(min(pval), max(pval), 1000):\n",
    "        \n",
    "        # ====================== YOUR CODE HERE ======================\n",
    "        # Instructions: Compute the F1 score of choosing epsilon as the\n",
    "        #               threshold and place the value in F1. The code at the\n",
    "        #               end of the loop will compare the F1 score for this\n",
    "        #               choice of epsilon and set it to be the best epsilon if\n",
    "        #               it is better than the current choice of epsilon.\n",
    "        #               \n",
    "        # Note: You can use predictions = pval < epsilon to get a binary vector\n",
    "        #       of 0's and 1's of the outlier predictions\n",
    "        \n",
    "\n",
    "        \n",
    "        # =============================================================\n",
    "        \n",
    "        if f1 > best_f1:\n",
    "            best_epsilon = epsilon\n",
    "            best_f1 = f1\n",
    "    \n",
    "    return best_epsilon, best_f1"
   ]
  },
  {
   "cell_type": "markdown",
   "metadata": {},
   "source": [
    "Best epsilon and F1 found using cross-validation (F1 should be about 0.899e-5):"
   ]
  },
  {
   "cell_type": "code",
   "execution_count": null,
   "metadata": {
    "collapsed": false
   },
   "outputs": [],
   "source": [
    "pval = multivariate_gaussian(Xval, mu, sigma2)\n",
    "epsilon, F1 = select_threshold(yval, pval)\n",
    "print(epsilon, F1)"
   ]
  },
  {
   "cell_type": "code",
   "execution_count": null,
   "metadata": {
    "collapsed": false,
    "scrolled": true
   },
   "outputs": [],
   "source": [
    "outliers = p < epsilon\n",
    "fig, ax = plt.subplots(figsize=(5,5))\n",
    "plot_data(X, ax)\n",
    "ax.scatter(X[outliers, 0], X[outliers, 1], marker='o', facecolors='none', edgecolors='r', s=100)"
   ]
  },
  {
   "cell_type": "markdown",
   "metadata": {},
   "source": [
    "## Part 4: Multidimensional Outliers \n",
    "  We will now use the code from the previous part and apply it to a \n",
    "  harder problem in which more features describe each datapoint and only \n",
    "  some features indicate whether a point is an outlier.\n"
   ]
  },
  {
   "cell_type": "code",
   "execution_count": null,
   "metadata": {
    "collapsed": true
   },
   "outputs": [],
   "source": [
    "ex7data2 = scipy.io.loadmat('ex8data2.mat')\n",
    "X = ex7data2['X']\n",
    "Xval = ex7data2['Xval']\n",
    "yval = ex7data2['yval'][:,0]"
   ]
  },
  {
   "cell_type": "code",
   "execution_count": null,
   "metadata": {
    "collapsed": true
   },
   "outputs": [],
   "source": [
    "mu, sigma2 = estimate_gaussian(X)\n",
    "p = multivariate_gaussian(X, mu, sigma2)\n",
    "pval = multivariate_gaussian(Xval, mu, sigma2)\n",
    "epsilon, F1 = select_threshold(yval, pval)"
   ]
  },
  {
   "cell_type": "markdown",
   "metadata": {},
   "source": [
    "best epsilon found: (should be about 1.38e-18)"
   ]
  },
  {
   "cell_type": "code",
   "execution_count": null,
   "metadata": {
    "collapsed": false
   },
   "outputs": [],
   "source": [
    "epsilon"
   ]
  },
  {
   "cell_type": "markdown",
   "metadata": {},
   "source": [
    "best F1 score:"
   ]
  },
  {
   "cell_type": "code",
   "execution_count": null,
   "metadata": {
    "collapsed": false
   },
   "outputs": [],
   "source": [
    "F1"
   ]
  },
  {
   "cell_type": "markdown",
   "metadata": {},
   "source": [
    "Number of outliers found:"
   ]
  },
  {
   "cell_type": "code",
   "execution_count": null,
   "metadata": {
    "collapsed": false
   },
   "outputs": [],
   "source": [
    "sum(p < epsilon)"
   ]
  }
 ],
 "metadata": {
  "kernelspec": {
   "display_name": "Python 3",
   "language": "python",
   "name": "python3"
  },
  "language_info": {
   "codemirror_mode": {
    "name": "ipython",
    "version": 3
   },
   "file_extension": ".py",
   "mimetype": "text/x-python",
   "name": "python",
   "nbconvert_exporter": "python",
   "pygments_lexer": "ipython3",
   "version": "3.4.3"
  }
 },
 "nbformat": 4,
 "nbformat_minor": 0
}

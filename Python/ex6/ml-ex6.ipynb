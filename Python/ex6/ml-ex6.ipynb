{
 "cells": [
  {
   "cell_type": "markdown",
   "metadata": {},
   "source": [
    "#  Exercise 6 | Support Vector Machines"
   ]
  },
  {
   "cell_type": "code",
   "execution_count": null,
   "metadata": {
    "collapsed": false
   },
   "outputs": [],
   "source": [
    "import numpy as np\n",
    "import matplotlib.pyplot as plt\n",
    "import scipy.io\n",
    "import sklearn.svm"
   ]
  },
  {
   "cell_type": "code",
   "execution_count": null,
   "metadata": {
    "collapsed": true
   },
   "outputs": [],
   "source": [
    "%matplotlib inline"
   ]
  },
  {
   "cell_type": "markdown",
   "metadata": {},
   "source": [
    "## Part 1: Loading and Visualizing Data\n",
    "  We start the exercise by first loading and visualizing the dataset. \n",
    "  The following code will load the dataset into your environment and plot\n",
    "  the data.\n",
    "\n"
   ]
  },
  {
   "cell_type": "code",
   "execution_count": null,
   "metadata": {
    "collapsed": false
   },
   "outputs": [],
   "source": [
    "ex6data1 = scipy.io.loadmat('ex6data1.mat')\n",
    "X = ex6data1['X']\n",
    "y = ex6data1['y'][:, 0]"
   ]
  },
  {
   "cell_type": "code",
   "execution_count": null,
   "metadata": {
    "collapsed": false,
    "scrolled": true
   },
   "outputs": [],
   "source": [
    "def plot_data(X, y, ax=None):\n",
    "    if ax == None:\n",
    "        fig, ax = plt.subplots(figsize=(7,5))\n",
    "    pos = y==1\n",
    "    neg = y==0\n",
    "    ax.scatter(X[pos,0], X[pos,1], marker='+', color='b')\n",
    "    ax.scatter(X[neg,0], X[neg,1], marker='o', color='r', s=5)\n",
    "plot_data(X, y)"
   ]
  },
  {
   "cell_type": "markdown",
   "metadata": {},
   "source": [
    "## Part 2: Training Linear SVM \n",
    "  The following code will train a linear SVM on the dataset and plot the\n",
    "  decision boundary learned.\n",
    "  \n",
    "   You should try to change the C value below and see how the decision\n",
    " boundary varies (e.g., try C = 1000)\n",
    "\n"
   ]
  },
  {
   "cell_type": "code",
   "execution_count": null,
   "metadata": {
    "collapsed": false
   },
   "outputs": [],
   "source": [
    "svm = sklearn.svm.SVC(C=1, kernel='linear')\n",
    "svm.fit(X, y)\n",
    "np.mean(svm.predict(X) == y)"
   ]
  },
  {
   "cell_type": "code",
   "execution_count": null,
   "metadata": {
    "collapsed": false
   },
   "outputs": [],
   "source": [
    "svm.coef_"
   ]
  },
  {
   "cell_type": "code",
   "execution_count": null,
   "metadata": {
    "collapsed": false,
    "scrolled": false
   },
   "outputs": [],
   "source": [
    "fig, ax = plt.subplots(figsize=(7,5))\n",
    "\n",
    "def draw_contour(X, model):\n",
    "    x1 = np.linspace(np.min(X[:,0]), np.max(X[:,0]), 200)\n",
    "    x2 = np.linspace(np.min(X[:,1]), np.max(X[:,1]), 200)\n",
    "\n",
    "    xx1, xx2 = np.meshgrid(x1, x2)\n",
    "    yy = model.predict(np.c_[xx1.flat, xx2.flat]).reshape(xx1.shape)\n",
    "    ax.contour(x1, x2, yy, levels=[0.5])\n",
    "    \n",
    "plot_data(X, y, ax)\n",
    "draw_contour(X, svm)"
   ]
  },
  {
   "cell_type": "markdown",
   "metadata": {},
   "source": [
    "## Part 3: Implementing Gaussian Kernel \n",
    "  You will now implement the Gaussian kernel to use\n",
    "  with the SVM. You should complete the code in gaussianKernel. This notebook will not use it, however. An sklearn custom kernel should return a matrix of all kernel values. Feel free to implement gaussianKernel in the sklearn way, and later call svm.SVC(kernel=gaussianKernel).\n"
   ]
  },
  {
   "cell_type": "code",
   "execution_count": null,
   "metadata": {
    "collapsed": false
   },
   "outputs": [],
   "source": [
    "def gaussianKernel(x1, x2, sigma):\n",
    "    # ====================== YOUR CODE HERE ======================\n",
    "    # Instructions: Fill in this function to return the similarity between x1\n",
    "    #               and x2 computed using a Gaussian kernel with bandwidth\n",
    "    #               sigma\n",
    "    #\n",
    "    #\n",
    "    \n",
    "    return 0\n",
    "    \n",
    "    # =============================================================\n",
    "    "
   ]
  },
  {
   "cell_type": "markdown",
   "metadata": {},
   "source": [
    "The Gaussian Kernel between `x1 = [1; 2; 1]`, `x2 = [0; 4; -1]`, `sigma = 2` should be about `0.324652`."
   ]
  },
  {
   "cell_type": "code",
   "execution_count": null,
   "metadata": {
    "collapsed": false,
    "scrolled": true
   },
   "outputs": [],
   "source": [
    "gaussianKernel(x1=np.array([1, 2,  1]), x2=np.array([0, 4, -1]), sigma=2)"
   ]
  },
  {
   "cell_type": "markdown",
   "metadata": {},
   "source": [
    "## Part 4: Visualizing Dataset 2 \n",
    "  The following code will load the next dataset into your environment and \n",
    "  plot the data. \n"
   ]
  },
  {
   "cell_type": "code",
   "execution_count": null,
   "metadata": {
    "collapsed": false
   },
   "outputs": [],
   "source": [
    "ex6data2 = scipy.io.loadmat('ex6data2.mat')\n",
    "X = ex6data2['X']\n",
    "y = ex6data2['y'][:,0]\n",
    "print(X.shape, y.shape)"
   ]
  },
  {
   "cell_type": "code",
   "execution_count": null,
   "metadata": {
    "collapsed": false,
    "scrolled": true
   },
   "outputs": [],
   "source": [
    "plot_data(X, y)"
   ]
  },
  {
   "cell_type": "markdown",
   "metadata": {},
   "source": [
    "## Part 5: Training SVM with RBF Kernel (Dataset 2) \n",
    "  After you have implemented the kernel, we can now use it to train the \n",
    "  SVM classier.\n",
    "  \n",
    "  Note that this doesn't do this, it simply uses the built-in gaussian kernel in sklearn.\n",
    " "
   ]
  },
  {
   "cell_type": "code",
   "execution_count": null,
   "metadata": {
    "collapsed": false
   },
   "outputs": [],
   "source": [
    "model = sklearn.svm.SVC(C=1, gamma=100, kernel='rbf')\n",
    "model.fit(X, y)\n",
    "np.mean((model.predict(X) == y))"
   ]
  },
  {
   "cell_type": "code",
   "execution_count": null,
   "metadata": {
    "collapsed": false,
    "scrolled": true
   },
   "outputs": [],
   "source": [
    "fig, ax = plt.subplots()\n",
    "plot_data(X, y, ax)\n",
    "draw_contour(X, model)"
   ]
  },
  {
   "cell_type": "markdown",
   "metadata": {},
   "source": [
    "## Part 6: Visualizing Dataset 3 \n",
    "  The following code will load the next dataset into your environment and \n",
    "  plot the data. \n"
   ]
  },
  {
   "cell_type": "code",
   "execution_count": null,
   "metadata": {
    "collapsed": false
   },
   "outputs": [],
   "source": [
    "ex6data3 = scipy.io.loadmat('ex6data3.mat')\n",
    "X = ex6data3['X']\n",
    "y = ex6data3['y'][:, 0]\n",
    "Xval = ex6data3['Xval']\n",
    "yval = ex6data3['yval'][:, 0]\n",
    "\n",
    "print(X.shape, y.shape, Xval.shape, yval.shape)"
   ]
  },
  {
   "cell_type": "code",
   "execution_count": null,
   "metadata": {
    "collapsed": false
   },
   "outputs": [],
   "source": [
    "plot_data(X, y)"
   ]
  },
  {
   "cell_type": "code",
   "execution_count": null,
   "metadata": {
    "collapsed": false,
    "scrolled": true
   },
   "outputs": [],
   "source": [
    "plot_data(Xval, yval)"
   ]
  },
  {
   "cell_type": "markdown",
   "metadata": {},
   "source": [
    "## Part 7: Training SVM with RBF Kernel (Dataset 3) \n",
    "\n",
    "  This is a different dataset that you can use to experiment with. Try\n",
    "  different values of C and sigma here, train a classifier on your training data, measure the cross validation error and find the values for C and sigma that minimize the cross validation error.\n",
    " \n"
   ]
  },
  {
   "cell_type": "code",
   "execution_count": null,
   "metadata": {
    "collapsed": false
   },
   "outputs": [],
   "source": [
    "import itertools\n",
    "\n",
    "possible_C = [0.01, 0.03, 0.1, 0.3, 1, 3, 10, 30, 100, 300, 1000]\n",
    "possible_gamma = [0.01, 0.03, 0.1, 0.3, 1, 3, 10, 30, 100, 300, 1000]\n",
    "cv_errors = np.zeros((len(possible_C), len(possible_gamma)))\n",
    "\n",
    "# YOUR CODE GOES HERE\n",
    "\n",
    "C = 7\n",
    "gamma = 7\n",
    "\n",
    "\n",
    "# =================="
   ]
  },
  {
   "cell_type": "code",
   "execution_count": null,
   "metadata": {
    "collapsed": false
   },
   "outputs": [],
   "source": [
    "model = sklearn.svm.SVC(C=C, gamma=gamma, kernel='rbf')\n",
    "model.fit(X, y)\n",
    "fig, ax = plt.subplots()\n",
    "plot_data(X, y, ax)\n",
    "draw_contour(X, model)"
   ]
  }
 ],
 "metadata": {
  "kernelspec": {
   "display_name": "Python 3",
   "language": "python",
   "name": "python3"
  },
  "language_info": {
   "codemirror_mode": {
    "name": "ipython",
    "version": 3
   },
   "file_extension": ".py",
   "mimetype": "text/x-python",
   "name": "python",
   "nbconvert_exporter": "python",
   "pygments_lexer": "ipython3",
   "version": "3.4.3"
  }
 },
 "nbformat": 4,
 "nbformat_minor": 0
}

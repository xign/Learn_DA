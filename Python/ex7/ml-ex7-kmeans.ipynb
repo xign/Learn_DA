{
 "cells": [
  {
   "cell_type": "markdown",
   "metadata": {},
   "source": [
    "#  Exercise 7 | Principle Component Analysis and K-Means Clustering"
   ]
  },
  {
   "cell_type": "code",
   "execution_count": null,
   "metadata": {
    "collapsed": false
   },
   "outputs": [],
   "source": [
    "import random\n",
    "import numpy as np\n",
    "import matplotlib.pyplot as plt\n",
    "import scipy.io\n",
    "from PIL import Image"
   ]
  },
  {
   "cell_type": "code",
   "execution_count": null,
   "metadata": {
    "collapsed": true
   },
   "outputs": [],
   "source": [
    "%matplotlib inline"
   ]
  },
  {
   "cell_type": "code",
   "execution_count": null,
   "metadata": {
    "collapsed": false
   },
   "outputs": [],
   "source": [
    "ex7data1 = scipy.io.loadmat('ex7data2.mat')\n",
    "X = ex7data1['X']"
   ]
  },
  {
   "cell_type": "markdown",
   "metadata": {},
   "source": [
    "## Part 1: Find Closest Centroids \n",
    "  To help you implement K-Means, we have divided the learning algorithm \n",
    "  into two functions -- findClosestCentroids and computeCentroids. In this\n",
    "  part, you should complete the code in the findClosestCentroids function. \n"
   ]
  },
  {
   "cell_type": "code",
   "execution_count": null,
   "metadata": {
    "collapsed": false
   },
   "outputs": [],
   "source": [
    "def find_closest_centroids(X, centroids):\n",
    "    #FINDCLOSESTCENTROIDS computes the centroid memberships for every example\n",
    "    #   idx = FINDCLOSESTCENTROIDS (X, centroids) returns the closest centroids\n",
    "    #   in idx for a dataset X where each row is a single example. idx = m x 1 \n",
    "    #   vector of centroid assignments (i.e. each entry in range [1..K])\n",
    "    #\n",
    "    K = centroids.shape[0]\n",
    "    \n",
    "    # You need to return the following variables correctly.\n",
    "    idx = np.zeros(X.shape[0], dtype='int')\n",
    "\n",
    "    # ====================== YOUR CODE HERE ======================\n",
    "    # Instructions: Go over every example, find its closest centroid, and store\n",
    "    #               the index inside idx at the appropriate location.\n",
    "    #               Concretely, idx(i) should contain the index of the centroid\n",
    "    #               closest to example i. Hence, it should be a value in the \n",
    "    #               range 1..K\n",
    "    #\n",
    "    # Note: You can use a for-loop over the examples to compute this.\n",
    "    #\n",
    "    \n",
    "    \n",
    "    # =============================================================\n",
    "\n",
    "    return idx"
   ]
  },
  {
   "cell_type": "markdown",
   "metadata": {},
   "source": [
    "The closest centroids to the first 3 examples should be `[0, 2, 1]` respectively."
   ]
  },
  {
   "cell_type": "code",
   "execution_count": null,
   "metadata": {
    "collapsed": false
   },
   "outputs": [],
   "source": [
    "K = 3\n",
    "initial_centroids = np.array([[3, 3], [6, 2], [8, 5]])\n",
    "idx = find_closest_centroids(X, initial_centroids)\n",
    "idx[:3]"
   ]
  },
  {
   "cell_type": "markdown",
   "metadata": {},
   "source": [
    "## Part 2: Compute Means \n",
    "  After implementing the closest centroids function, you should now\n",
    "  complete the compute_centroids function.\n"
   ]
  },
  {
   "cell_type": "code",
   "execution_count": null,
   "metadata": {
    "collapsed": false
   },
   "outputs": [],
   "source": [
    "def compute_centroids(X, idx, K):\n",
    "    #COMPUTECENTROIDS returs the new centroids by computing the means of the \n",
    "    #data points assigned to each centroid.\n",
    "    #   centroids = COMPUTECENTROIDS(X, idx, K) returns the new centroids by \n",
    "    #   computing the means of the data points assigned to each centroid. It is\n",
    "    #   given a dataset X where each row is a single data point, a vector\n",
    "    #   idx of centroid assignments (i.e. each entry in range [1..K]) for each\n",
    "    #   example, and K, the number of centroids. You should return a matrix\n",
    "    #   centroids, where each row of centroids is the mean of the data points\n",
    "    #   assigned to it.\n",
    "    #\n",
    "    m, n = X.shape\n",
    "    \n",
    "    # You need to return the following variables correctly.\n",
    "    centroids = np.zeros((K, n))  \n",
    "    \n",
    "    # ====================== YOUR CODE HERE ======================\n",
    "    # Instructions: Go over every centroid and compute mean of all points that\n",
    "    #               belong to it. Concretely, the row vector centroids(i, :)\n",
    "    #               should contain the mean of the data points assigned to\n",
    "    #               centroid i.\n",
    "    #\n",
    "    # Note: You can use a for-loop over the centroids to compute this.\n",
    "    #\n",
    "\n",
    "\n",
    "    \n",
    "    \n",
    "    # =============================================================\n",
    "    \n",
    "    return centroids"
   ]
  },
  {
   "cell_type": "markdown",
   "metadata": {},
   "source": [
    "Centroids computed after initial finding of closest centroids:"
   ]
  },
  {
   "cell_type": "code",
   "execution_count": null,
   "metadata": {
    "collapsed": false
   },
   "outputs": [],
   "source": [
    "compute_centroids(X, idx, K)"
   ]
  },
  {
   "cell_type": "markdown",
   "metadata": {},
   "source": [
    "The centroids should be:\n",
    "\n",
    "`array([[ 2.42830111,  3.15792418],\n",
    "       [ 5.81350331,  2.63365645],\n",
    "       [ 7.11938687,  3.6166844 ]])`\n"
   ]
  },
  {
   "cell_type": "code",
   "execution_count": null,
   "metadata": {
    "collapsed": false
   },
   "outputs": [],
   "source": [
    "def plot_data_points(X, idx, K, ax):\n",
    "    palette = plt.get_cmap('hsv', np.max(idx) + 2)\n",
    "    colors = palette(idx)\n",
    "    ax.scatter(X[:, 0], X[:, 1], c=colors)"
   ]
  },
  {
   "cell_type": "code",
   "execution_count": null,
   "metadata": {
    "collapsed": false
   },
   "outputs": [],
   "source": [
    "def plot_kmeans_progress(X, centroids, previous_centroids, idx, K, iteration_number, ax):\n",
    "    plot_data_points(X, idx, K, ax)\n",
    "    \n",
    "    ax.scatter(centroids[:, 0], centroids[:, 1], c='black', marker='x', s=50, color='black', linewidths=4)\n",
    "    if previous_centroids is not None:\n",
    "        for c, pc in zip(centroids, previous_centroids):\n",
    "            ax.plot([c[0], pc[0]], [c[1], pc[1]], 'b-')\n",
    "    \n",
    "    ax.set_title('Iteration {}'.format(iteration_number))"
   ]
  },
  {
   "cell_type": "markdown",
   "metadata": {},
   "source": [
    "## Part 3: K-Means Clustering \n",
    "  After you have completed the two functions computeCentroids and\n",
    "  findClosestCentroids, you have all the necessary pieces to run the\n",
    "  kMeans algorithm. In this part, you will run the K-Means algorithm on\n",
    "  the example dataset we have provided. \n"
   ]
  },
  {
   "cell_type": "code",
   "execution_count": null,
   "metadata": {
    "collapsed": true
   },
   "outputs": [],
   "source": [
    "K = 3\n",
    "initial_centroids = np.array([[3, 3], [6, 2], [8, 5]])\n",
    "max_iters = 10"
   ]
  },
  {
   "cell_type": "code",
   "execution_count": null,
   "metadata": {
    "collapsed": false
   },
   "outputs": [],
   "source": [
    " def run_kmeans(X, initial_centroids, max_iters, plot_progress=False):\n",
    "    if plot_progress:\n",
    "        fig, ax = plt.subplots(figsize=(6, 6))\n",
    "    m, n = X.shape\n",
    "    K = initial_centroids.shape[0]\n",
    "    centroids = initial_centroids\n",
    "    previous_centroids = None\n",
    "\n",
    "    for i in range(max_iters):\n",
    "        idx = find_closest_centroids(X, centroids)\n",
    "        if plot_progress:\n",
    "            plot_kmeans_progress(X, centroids, previous_centroids, idx, K, i+1, ax)\n",
    "        previous_centroids = centroids\n",
    "        centroids = compute_centroids(X, idx, K)\n",
    "\n",
    "    return centroids, idx"
   ]
  },
  {
   "cell_type": "code",
   "execution_count": null,
   "metadata": {
    "collapsed": false,
    "scrolled": false
   },
   "outputs": [],
   "source": [
    "_, __ = run_kmeans(X, initial_centroids, 10, True)"
   ]
  },
  {
   "cell_type": "markdown",
   "metadata": {},
   "source": [
    "## Part 4: K-Means Clustering on Pixels \n",
    "  In this exercise, you will use K-Means to compress an image. To do this,\n",
    "  you will first run K-Means on the colors of the pixels in the image and\n",
    "  then you will map each pixel on to it's closest centroid.\n"
   ]
  },
  {
   "cell_type": "code",
   "execution_count": null,
   "metadata": {
    "collapsed": false
   },
   "outputs": [],
   "source": [
    "#  Load an image of a bird\n",
    "im = Image.open('bird_small.png')\n",
    "X = np.array(im)\n",
    "X = X/255 # Divide by 255 so that all values are in the range"
   ]
  },
  {
   "cell_type": "markdown",
   "metadata": {},
   "source": [
    " Reshape the image into an Nx3 matrix where N = number of pixels.\n",
    " Each row will contain the Red, Green and Blue pixel values\n",
    " This gives us our dataset matrix X that we will use K-Means on."
   ]
  },
  {
   "cell_type": "code",
   "execution_count": null,
   "metadata": {
    "collapsed": false
   },
   "outputs": [],
   "source": [
    "X = X.reshape((128*128, 3))\n",
    "img_size = X.shape\n",
    "img_size, X.dtype"
   ]
  },
  {
   "cell_type": "markdown",
   "metadata": {},
   "source": [
    "  You should now complete the code in kmeans_init_centroids."
   ]
  },
  {
   "cell_type": "code",
   "execution_count": null,
   "metadata": {
    "collapsed": true
   },
   "outputs": [],
   "source": [
    "def kmeans_init_centroids(X, K):\n",
    "    #KMEANSINITCENTROIDS This function initializes K centroids that are to be \n",
    "    #used in K-Means on the dataset X\n",
    "    #   centroids = KMEANSINITCENTROIDS(X, K) returns K initial centroids to be\n",
    "    #   used with the K-Means on the dataset X\n",
    "    #\n",
    "    \n",
    "    centroids = np.zeros((K, X.shape[1]))\n",
    "    \n",
    "    # ====================== YOUR CODE HERE ======================\n",
    "    # Instructions: You should set centroids to randomly chosen examples from\n",
    "    #               the dataset X\n",
    "    #\n",
    "    \n",
    "    \n",
    "    \n",
    "    \n",
    "    \n",
    "    # =============================================================\n",
    "\n",
    "    return centroids"
   ]
  },
  {
   "cell_type": "markdown",
   "metadata": {},
   "source": [
    " Run your K-Means algorithm on this data.\n",
    " You should try different values of K and max_iters here"
   ]
  },
  {
   "cell_type": "code",
   "execution_count": null,
   "metadata": {
    "collapsed": true
   },
   "outputs": [],
   "source": [
    "K = 16\n",
    "max_iters = 10"
   ]
  },
  {
   "cell_type": "markdown",
   "metadata": {},
   "source": [
    " When using K-Means, it is important the initialize the centroids\n",
    " randomly. \n",
    " You should complete the code in kMeansInitCentroids before proceeding"
   ]
  },
  {
   "cell_type": "code",
   "execution_count": null,
   "metadata": {
    "collapsed": false
   },
   "outputs": [],
   "source": [
    "initial_centroids = kmeans_init_centroids(X, K)"
   ]
  },
  {
   "cell_type": "code",
   "execution_count": null,
   "metadata": {
    "collapsed": true
   },
   "outputs": [],
   "source": [
    "centroids, idx = run_kmeans(X, initial_centroids, max_iters)"
   ]
  },
  {
   "cell_type": "markdown",
   "metadata": {},
   "source": [
    "## Part 5: Image Compression \n",
    "  In this part of the exercise, you will use the clusters of K-Means to\n",
    "  compress an image. To do this, we first find the closest clusters for\n",
    "  each example. \n"
   ]
  },
  {
   "cell_type": "code",
   "execution_count": null,
   "metadata": {
    "collapsed": false
   },
   "outputs": [],
   "source": [
    "idx = find_closest_centroids(X, centroids)"
   ]
  },
  {
   "cell_type": "markdown",
   "metadata": {},
   "source": [
    " Essentially, now we have represented the image X as in terms of the\n",
    " indices in idx. \n",
    " \n",
    "  We can now recover the image from the indices (idx) by mapping each pixel\n",
    " (specified by it's index in idx) to the centroid value"
   ]
  },
  {
   "cell_type": "code",
   "execution_count": null,
   "metadata": {
    "collapsed": false,
    "scrolled": true
   },
   "outputs": [],
   "source": [
    "X_recovered = centroids[idx,:]\n",
    "X_recovered = X_recovered.reshape([128, 128, 3])\n",
    "X_recovered *= 255\n",
    "X_recovered = np.array(X_recovered, dtype='uint8')\n",
    "X_recovered.shape"
   ]
  },
  {
   "cell_type": "markdown",
   "metadata": {},
   "source": [
    "Here are the centroid colors:"
   ]
  },
  {
   "cell_type": "code",
   "execution_count": null,
   "metadata": {
    "collapsed": false,
    "scrolled": false
   },
   "outputs": [],
   "source": [
    "fig, axes = plt.subplots(nrows=4, ncols=4)\n",
    "axes = axes.flat\n",
    "for centroid, ax in zip(centroids, axes):\n",
    "    c = np.array(centroid)\n",
    "    ax.set_axis_off()\n",
    "    ax.scatter(1,1,c=c,s=1000)"
   ]
  },
  {
   "cell_type": "markdown",
   "metadata": {},
   "source": [
    "And the images, original and compressed."
   ]
  },
  {
   "cell_type": "code",
   "execution_count": null,
   "metadata": {
    "collapsed": false,
    "scrolled": false
   },
   "outputs": [],
   "source": [
    "fig, axes = plt.subplots(nrows=1, ncols=2, figsize=(8,10))\n",
    "axes[0].imshow(X_recovered)\n",
    "axes[0].set_title('Compressed')\n",
    "axes[1].imshow(np.array(Image.open('bird_small.png')))\n",
    "axes[1].set_title('Original')\n",
    "for ax in axes:\n",
    "    ax.set_axis_off()"
   ]
  }
 ],
 "metadata": {
  "kernelspec": {
   "display_name": "Python 3",
   "language": "python",
   "name": "python3"
  },
  "language_info": {
   "codemirror_mode": {
    "name": "ipython",
    "version": 3
   },
   "file_extension": ".py",
   "mimetype": "text/x-python",
   "name": "python",
   "nbconvert_exporter": "python",
   "pygments_lexer": "ipython3",
   "version": "3.4.3"
  }
 },
 "nbformat": 4,
 "nbformat_minor": 0
}
